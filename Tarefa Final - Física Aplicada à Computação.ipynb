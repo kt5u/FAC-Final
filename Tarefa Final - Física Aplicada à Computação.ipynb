{
 "cells": [
  {
   "cell_type": "markdown",
   "id": "5bd7d131",
   "metadata": {},
   "source": [
    "# Projeto Final de Física Aplicada à Computação \n",
    "## Engenharia Informática - Escola Superior de Tecnologia e Gestão\n",
    "#### Denis Gabriel Cicau - 25442 | 28-01-2024 | https://github.com/kt5u/FAC-Final/\n",
    "\n",
    "\n"
   ]
  },
  {
   "cell_type": "markdown",
   "id": "8080917f",
   "metadata": {},
   "source": [
    "# Introdução\n",
    "## T1 – Arduino: aquisição, tratamento e visualização de dados de sensor\n",
    "\n",
    "## 1.1 - Realização do sketch que fornece os dados\n",
    "\n",
    "### *seri_arduinoV1.ino*\n",
    " \n",
    " \n",
    " \n",
    "O presente sketch realiza a extração de valores de temperatura, registrando precisamente o intervalo de tempo a cada instância, por meio do sensor embutido incorporado ao Arduino.\n",
    "\n"
   ]
  },
  {
   "cell_type": "code",
   "execution_count": 1,
   "id": "a3548d82",
   "metadata": {},
   "outputs": [
    {
     "ename": "SyntaxError",
     "evalue": "leading zeros in decimal integer literals are not permitted; use an 0o prefix for octal integers (2131609682.py, line 10)",
     "output_type": "error",
     "traceback": [
      "\u001b[1;36m  Cell \u001b[1;32mIn[1], line 10\u001b[1;36m\u001b[0m\n\u001b[1;33m    *  Data / Ano Letivo: ---------- 2023/2024 | 28-01-2024\u001b[0m\n\u001b[1;37m                                                    ^\u001b[0m\n\u001b[1;31mSyntaxError\u001b[0m\u001b[1;31m:\u001b[0m leading zeros in decimal integer literals are not permitted; use an 0o prefix for octal integers\n"
     ]
    }
   ],
   "source": [
    "/* \n",
    "*  Autor ----------------------- @Denis Cicau - 25442\n",
    "*\n",
    "*  Repositório: ---------------- https://github.com/kt5u/FAC-Final\n",
    "*\n",
    "*  Instituição: ---------------- Instituto Politécnico de Beja - Escola Superior de Tecnologia e Gestão\n",
    "*\n",
    "*  Curso / Unidade Curricular: - Engenharia Informática - Física Aplicada à Computação\n",
    "*\n",
    "*  Data / Ano Letivo: ---------- 2023/2024 | 28-01-2024\n",
    "*\n",
    "*  Descrição do projeto: ------- Aquisição de dados de temperatura e tempo utilizando um Arduino\n",
    "*\n",
    "*  Hardware: ------------------- Arduino Nano rp2040 Connect\n",
    "*\n",
    "*  Bibliotecas utilizadas:  ---- LSM6DSOX (sensor de temperatura)\n",
    "*/\n",
    "\n",
    "#include <Arduino.h>\n",
    "#include <Arduino_LSM6DSOX.h>\n",
    "\n",
    "void setup() \n",
    "{\n",
    "  Serial.begin(9600); // Identificação\n",
    "  while(!Serial);\n",
    "  Serial.println(\"Aquisição de dados: Temperatura e Tempo\");\n",
    "  Serial.println(\"\");\n",
    "  \n",
    "  if (IMU.temperatureAvailable()) // Verificação da existência de sensor de temperatura (LSMDSOX)\n",
    "  {\n",
    "    Serial.println(\"Sensor de temperatura encontrado!\");\n",
    "    Serial.println(\"A ler valores de temperatura e tempo...\");\n",
    "    Serial.println(\"\");\n",
    "  } \n",
    "}\n",
    "\n",
    "void loop() \n",
    "{\n",
    "    int time = 0;\n",
    "    int temp = 0;\n",
    "    IMU.readTemperature(temp);\n",
    "    time = millis() - time;\n",
    "    Serial.print(time);\n",
    "    Serial.print(\", \");\n",
    "    Serial.print(temp);\n",
    "    delay(100);\n",
    "}"
   ]
  },
  {
   "cell_type": "markdown",
   "id": "dbcee1a2",
   "metadata": {},
   "source": [
    "## 1.2- Verificação da disponibilidade da porta de comunicação e aquisição de dados do Arduino\n",
    "\n",
    "### Portas disponíveis\n",
    "\n",
    "O código subsequente verifica se a porta de comuniicação está disponível para uso."
   ]
  },
  {
   "cell_type": "code",
   "execution_count": null,
   "id": "110aa2d9",
   "metadata": {},
   "outputs": [],
   "source": [
    "import sys\n",
    "import serial\n",
    "import serial.tools.list_ports as sp\n",
    "\n",
    "# Cria uma \"lista\" com as portas que estão disponíveis para comunicação\n",
    "available_ports = sp.comports()\n",
    "\n",
    "# Informações sobre todas as portas disponíveis\n",
    "for port in available_ports:\n",
    "    print(f'Port:\\t{port.device}\\nDesc.:\\t{port.description}\\nHWID:\\t{port.hwid}\\nFab.:\\t{port.manufacturer}')"
   ]
  },
  {
   "cell_type": "markdown",
   "id": "ee99aea1",
   "metadata": {},
   "source": [
    "## Abertura da porta para comunicação\n",
    "\n",
    "O código seguinte permite que haja comunicação entre o Arduino com o Jupyter."
   ]
  },
  {
   "cell_type": "code",
   "execution_count": null,
   "id": "4b611c11",
   "metadata": {},
   "outputs": [],
   "source": [
    "import sys\n",
    "import serial\n",
    "import serial.tools.list_ports as sp\n",
    "\n",
    "ser = serial.Serial()\n",
    "ser.baudrate = 9600 \n",
    "ser.port = port.device\n",
    "ser.timeout = 2000\n",
    "\n",
    "#INFORMAÇÕES DA CONEXÃO\n",
    "print('Informação sobre a conexão:\\n')\n",
    "print('Connexão à porta ' + ser.portstr)\n",
    "print('Config. da porta:\\n\\t\\tBaudrate: {0}\\n\\t\\tParity Bits: {1}\\n\\t\\tByte size: {2}\\n\\t\\tStop bits: {3}:\\n\\t\\tTimeout: {4}'.\n",
    "      format(ser.baudrate, ser.parity, ser.bytesize, ser.stopbits, ser.timeout))"
   ]
  },
  {
   "cell_type": "markdown",
   "id": "7e8a74e9",
   "metadata": {},
   "source": [
    "## 2 - Leitura dos dados do Arduino"
   ]
  },
  {
   "cell_type": "markdown",
   "id": "ac960689",
   "metadata": {},
   "source": [
    "A secção de código asseguir pede ao utilizador o número de séries de aquisição de dados e guarda-os numa lista. Após os dados serem gravados numa lista, a porta é fechada para comunicações. Caso a porta de série não esteja aberta, o programa reabre-a."
   ]
  },
  {
   "cell_type": "code",
   "execution_count": null,
   "id": "c472a7bb",
   "metadata": {},
   "outputs": [],
   "source": [
    "import sys\n",
    "import serial\n",
    "import serial.tools.list_ports as sp\n",
    "\n",
    "N = int(input('Número de séries de aquisição'))\n",
    "\n",
    "if not ser.is_open:\n",
    "    print('\\nA conexão vai ser aberta.')\n",
    "    ser.open()\n",
    "    \n",
    "data = []\n",
    "count_dados = 0\n",
    "count_series = 0\n",
    "\n",
    "print('Em aquisição de dados...')\n",
    "\n",
    "while True:\n",
    "    s = str(ser.readline())\n",
    "    val = s[2:-5]\n",
    "    if ( val != 'end' ):\n",
    "        count_dados += 1\n",
    "        print('.', end='')\n",
    "        data.append(float(val))\n",
    "    else:\n",
    "        count_series += 1\n",
    "        print(f'\\nSéries adquiridas: {count_series}')\n",
    "        print(f'Dados adquiridos: {count_dados}')\n",
    "    \n",
    "    if (count_series == N):\n",
    "        print(\"\\nFim da aquisição de {:n} séries:\\n\".format(N))\n",
    "        ser.close()\n",
    "        print(\"\\nA conexão foi fechada.\")\n",
    "        break\n",
    "\n",
    "print(data)"
   ]
  },
  {
   "cell_type": "markdown",
   "id": "e1e22808",
   "metadata": {},
   "source": [
    "## 3 - Armazenamento dos dados adquiridos"
   ]
  },
  {
   "cell_type": "markdown",
   "id": "0551c88c",
   "metadata": {},
   "source": [
    "Utilizando a biblioteca pandas, o bloco de código seguinte armazena os dados adquiridos pelo arduino em listas, onde são convertidas em ficheiros com o formato .csv.\n"
   ]
  },
  {
   "cell_type": "code",
   "execution_count": null,
   "id": "96966be1",
   "metadata": {},
   "outputs": [],
   "source": [
    "import pandas as pd\n",
    "\n",
    "filename = 'dados'\n",
    "filepath = 'Ficheiros/' + filename\n",
    "\n",
    "def grava_dados(filepath): #Grava os dados e guarda num ficheiro .csv\n",
    "    \n",
    "    data = {'Temp': lista_Temp, 'Time': lista_Time}\n",
    "    df = pd.DataFrame(data)\n",
    "    df.to_csv(filepath + '.csv', index=False)\n",
    "    print(f'Data gravados em {filepath}')"
   ]
  },
  {
   "cell_type": "markdown",
   "id": "c34618c7",
   "metadata": {},
   "source": [
    "## 4 - Geração de gráficos a partir dos dados adquiridos\n",
    "Com base nos dados obtidos no ponto 3 e utilizando a biblioteca Matplotlib, o código subsequente realiza a geração de gráficos, empregando métodos e procedimentos consistentes com os princípios científicos da visualização de dados."
   ]
  },
  {
   "cell_type": "code",
   "execution_count": null,
   "id": "2da80711",
   "metadata": {},
   "outputs": [],
   "source": [
    "import matplotlib.pyplot as plt\n",
    "import numpy as np\n",
    "import pandas as pd\n",
    "\n",
    "def le_dados(filepath): #Lê os dados gravados anteriormente\n",
    "    \n",
    "    df = pd.read_csv(filepath + '.csv')\n",
    "    lista_1 = list(df['Temp'])\n",
    "    lista_2 = list(df['Time'])\n",
    "    return lista_1, lista_2\n",
    "\n",
    "data1 = lista_1\n",
    "data2 = lista_2\n",
    "\n",
    "# dicionário de definição do título\n",
    "fontT = {'family': 'sans',\n",
    "         'color':  'darkblue',\n",
    "         'weight': 'bold',\n",
    "         'size': 14,\n",
    "        }\n",
    "\n",
    "# dicionário de definição da legenda do eixo X\n",
    "fontX = {'family': 'sans',\n",
    "         'color':  'darkred',\n",
    "         'weight': 'normal',\n",
    "         'size': 12,\n",
    "        }\n",
    "\n",
    "# dicionário de definição da legenda do eixo Y\n",
    "fontY = {'family': 'serif',\n",
    "         'color':  'darkblue',\n",
    "         'weight': 'normal',\n",
    "         'size': 12,\n",
    "        }\n",
    "\n",
    "plt.title('Aquisição de dados - Arduino', fontdict=fontT)      # definição do título do gráfico\n",
    "plt.xlabel('tempo', fontdict=fontX)                            # definição da legenda do eixo dos x\n",
    "plt.ylabel('temperatura', fontdict=fontY)                      # definição da legenda do eixo dos y\n",
    "plt.plot(data1, linewidth=2, label='Temperatura/Tempo')\n",
    "plt.text(0, data3.max()*.6 , 'Dados do sensor', color='black') # colocação de uma legenda\n",
    "plt.legend(title='Amostras', frameon=False)                    # apresenta a legenda\n",
    "plt.show()"
   ]
  },
  {
   "cell_type": "code",
   "execution_count": null,
   "id": "e46206f1",
   "metadata": {},
   "outputs": [],
   "source": []
  }
 ],
 "metadata": {
  "kernelspec": {
   "display_name": "Python 3 (ipykernel)",
   "language": "python",
   "name": "python3"
  },
  "language_info": {
   "codemirror_mode": {
    "name": "ipython",
    "version": 3
   },
   "file_extension": ".py",
   "mimetype": "text/x-python",
   "name": "python",
   "nbconvert_exporter": "python",
   "pygments_lexer": "ipython3",
   "version": "3.11.5"
  }
 },
 "nbformat": 4,
 "nbformat_minor": 5
}
