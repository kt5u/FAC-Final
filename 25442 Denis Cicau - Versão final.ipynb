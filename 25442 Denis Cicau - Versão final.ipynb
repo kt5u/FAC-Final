{
 "cells": [
  {
   "cell_type": "markdown",
   "id": "5bd7d131",
   "metadata": {},
   "source": [
    "# Projeto Final de Física Aplicada à Computação \n",
    "## Engenharia Informática - Escola Superior de Tecnologia e Gestão\n",
    "#### Denis Gabriel Cicau - 25442 | 28-01-2024 | https://github.com/kt5u/FAC-Final/\n",
    "\n",
    "\n"
   ]
  },
  {
   "cell_type": "markdown",
   "id": "8080917f",
   "metadata": {},
   "source": [
    "# Introdução\n",
    "## T1 – Arduino: aquisição, tratamento e visualização de dados de sensor\n",
    "\n",
    "## 1.1 - Realização do sketch que fornece os dados\n",
    "\n",
    "### *seri_arduinoV1.ino*\n",
    " \n",
    " \n",
    " \n",
    "O seguinte código desenvolvido para o Arduino Nano RP2040 Connect realiza a aquisição de dados provenientes do sensor de temperatura. A implementação do código incorpora a comunicação serial para a transmissão dos dados ao computador, acompanhada de um marcador de tempo que registra os segundos decorridos desde o início do programa até cada instante de leitura do sensor."
   ]
  },
  {
   "cell_type": "code",
   "execution_count": 1,
   "id": "a3548d82",
   "metadata": {},
   "outputs": [
    {
     "ename": "SyntaxError",
     "evalue": "leading zeros in decimal integer literals are not permitted; use an 0o prefix for octal integers (308699214.py, line 10)",
     "output_type": "error",
     "traceback": [
      "\u001b[1;36m  Cell \u001b[1;32mIn[1], line 10\u001b[1;36m\u001b[0m\n\u001b[1;33m    *  Data / Ano Letivo: ---------- 2023/2024 | 28-01-2024\u001b[0m\n\u001b[1;37m                                                    ^\u001b[0m\n\u001b[1;31mSyntaxError\u001b[0m\u001b[1;31m:\u001b[0m leading zeros in decimal integer literals are not permitted; use an 0o prefix for octal integers\n"
     ]
    }
   ],
   "source": [
    "/* \n",
    "*  Autor ----------------------- @Denis Cicau - 25442\n",
    "*\n",
    "*  Repositório: ---------------- https://github.com/kt5u/FAC-Final\n",
    "*\n",
    "*  Instituição: ---------------- Instituto Politécnico de Beja - Escola Superior de Tecnologia e Gestão\n",
    "*\n",
    "*  Curso / Unidade Curricular: - Engenharia Informática - Física Aplicada à Computação\n",
    "*\n",
    "*  Data / Ano Letivo: ---------- 2023/2024 | 28-01-2024\n",
    "*\n",
    "*  Descrição do projeto: ------- Aquisição de dados de temperatura e tempo utilizando um Arduino\n",
    "*\n",
    "*  Hardware: ------------------- Arduino Nano rp2040 Connect\n",
    "*\n",
    "*  Bibliotecas utilizadas:  ---- LSM6DSOX (sensor de temperatura)\n",
    "*/\n",
    "\n",
    "#include <Arduino.h>\n",
    "#include <Arduino_LSM6DSOX.h>\n",
    "#define seconds() (millis()/1000)\n",
    "\n",
    "void setup() \n",
    "{\n",
    "  Serial.begin(9600); // Identificação\n",
    "  while(!Serial);\n",
    "  Serial.println(\"Aquisição de dados: Temperatura e Tempo\");\n",
    "  \n",
    "  if(!IMU.begin()){\n",
    "        Serial.println(\"Não consegue inicializar IMU!\");\n",
    "        while (1);\n",
    "    }\n",
    "}\n",
    "\n",
    "void loop() \n",
    "{\n",
    "    if (IMU.temperatureAvailable()) // Verificação da existência de sensor de temperatura (LSMDSOX)\n",
    "    {\n",
    "        int time = 0;\n",
    "        float temp = 0;\n",
    "        IMU.readTemperatureFloat(temp);\n",
    "        time = seconds() - time;\n",
    "        Serial.print(time);\n",
    "        Serial.print(\", \");\n",
    "        Serial.println(temp);\n",
    "        delay(1000);\n",
    "    }\n",
    "}"
   ]
  },
  {
   "cell_type": "markdown",
   "id": "7ea3b99c",
   "metadata": {},
   "source": [
    "<hr style='border: 2px solid black'>"
   ]
  },
  {
   "cell_type": "markdown",
   "id": "dbcee1a2",
   "metadata": {},
   "source": [
    "### Bibliotecas utilizadas\n",
    "\n",
    "Foram empregadas diversas bibliotecas recomendadas pelo professor para otimizar o desenvolvimento e garantir uma integração eficiente com o hardware. Estas bibliotecas desempenham papéis específicos no código, contribuindo para a funcionalidade global do sistema. A seguir, são listadas as principais bibliotecas utilizadas:"
   ]
  },
  {
   "cell_type": "code",
   "execution_count": null,
   "id": "6fba610d",
   "metadata": {},
   "outputs": [],
   "source": [
    "# É favor correr esta célula para que o resto do trabalho seja executado corretamente!\n",
    "import sys\n",
    "import serial\n",
    "import serial.tools.list_ports as sp\n",
    "import pandas as pd\n",
    "import matplotlib.pyplot as plt\n",
    "import numpy as np"
   ]
  },
  {
   "cell_type": "markdown",
   "id": "6c6a3fed",
   "metadata": {},
   "source": [
    "---\n",
    "\n",
    "## 1.2- Verificação da disponibilidade da porta de comunicação e aquisição de dados do Arduino\n",
    "\n",
    "### Portas disponíveis\n",
    "\n",
    "\n",
    "O trecho de código apresentado tem como objetivo verificar a disponibilidade das portas de comunicação no sistema e obter informações sobre essas portas. A biblioteca serial.tools.list_ports foi empregada para criar uma lista das portas disponíveis para comunicação. <br>\n",
    "\n",
    "Utiliza a função ***serial.tools.list_ports.comports()*** para obter uma lista de objetos, representando as portas de comunicação disponíveis no sistema. Essa lista é armazenada na variável ***available_ports***, realiza um loop sobre a lista de portas ***(available_ports)*** para extrair informações específicas de cada porta e Imprime informações detalhadas sobre cada porta, incluindo: <br>\n",
    "\n",
    "> - **Porta:** O identificador da porta (***port.device***). <br>\n",
    "> - **Descrição:** Uma descrição detalhada da porta (***port.description***). <br>\n",
    "> - **HWID:** O identificador de hardware da porta (***port.hwid***) <br>\n",
    "> - **Fabricante:** O nome do fabricante da porta (***port.manufacturer***). <br>"
   ]
  },
  {
   "cell_type": "code",
   "execution_count": null,
   "id": "110aa2d9",
   "metadata": {},
   "outputs": [],
   "source": [
    "# Cria uma \"lista\" com as portas que estão disponíveis para comunicação\n",
    "available_ports = sp.comports()\n",
    "\n",
    "# Informações sobre todas as portas disponíveis\n",
    "for port in available_ports:\n",
    "    print(f'Port:\\t{port.device}\\nDesc.:\\t{port.description}\\nHWID:\\t{port.hwid}\\nFab.:\\t{port.manufacturer}')"
   ]
  },
  {
   "cell_type": "markdown",
   "id": "ee99aea1",
   "metadata": {},
   "source": [
    "## Informações da conexão estabelecida anteriormente\n",
    "\n",
    "\n",
    "O trecho de código apresenta a configuração da conexão serial estabelecida anteriormente. Um objeto da classe ***serial.Serial()*** foi instanciado para gerenciar a comunicação serial, e os parâmetros essenciais foram definidos para estabelecer a conexão com o Arduino Nano RP2040 Connect. Os principais elementos configurados incluem:\n",
    "\n",
    "> - **Taxa de Transmissão (***Baudrate***):** Configurado para 9600 bps.\n",
    "> - **Porta de Comunicação:** Atribuída com base na porta disponível previamente identificada.\n",
    "> - **Timeout:** Estabelecido em 2000 milissegundos para permitir intervalos de tempo apropriados durante a comunicação."
   ]
  },
  {
   "cell_type": "code",
   "execution_count": null,
   "id": "4b611c11",
   "metadata": {},
   "outputs": [],
   "source": [
    "ser = serial.Serial()\n",
    "ser.baudrate = 9600 \n",
    "ser.port = port.device\n",
    "ser.timeout = 2000\n",
    "\n",
    "# print das informações da conexão\n",
    "print('Informação sobre a conexão:\\n')\n",
    "print('Connexão à porta ' + ser.portstr)\n",
    "print('Config. da porta:\\n\\t\\tBaudrate: {0}\\n\\t\\tParity Bits: {1}\\n\\t\\tByte size: {2}\\n\\t\\tStop bits: {3}:\\n\\t\\tTimeout: {4}'.\n",
    "      format(ser.baudrate, ser.parity, ser.bytesize, ser.stopbits, ser.timeout))"
   ]
  },
  {
   "cell_type": "markdown",
   "id": "7e8a74e9",
   "metadata": {},
   "source": [
    "## Leitura e armazenamento dos dados do Arduino"
   ]
  },
  {
   "cell_type": "markdown",
   "id": "ac960689",
   "metadata": {},
   "source": [
    "A secção de código asseguir apresenta a implementação da leitura dos dados provenientes do sensor do Arduino utilizando a biblioteca ***Serial***, guardando-os em listas, nomeadamente: <br>\n",
    "> - **dados_Tempo**: Lista onde são guardados os dados referentes ao tempo\n",
    "> - **dados_Temperatura**: Lista onde são guardados os dados referentes à temperatura\n",
    "\n",
    "\n",
    "O utilizador é solicitado a inserir o número desejado de séries de aquisição (**N**), e o processo de recolha de dados é iniciado. Durante esse processo, um loop é executado para ler o número de amostras especificado.  Cada amostra é lida, decodificada e desprovida de espaços em branco e vírgulas, utilizando as seguintes linhas de código:\n",
    "> *linha = ser.readline().decode().strip()* <br>\n",
    "> *dados = linha.split(', ')* <br> \n",
    "\n",
    "\n",
    "Os dados são então divididos e verificados quanto à formatação correta (dois elementos separados por uma vírgula e um espaço). Se a formatação estiver correta, os dados de tempo são convertidos para inteiro e os dados de temperatura para float, sendo adicionados às listas correspondentes. Caso ocorra algum problema de formatação, é exibida uma mensagem de erro. Após a conclusão da recolha de dados, a porta serial é fechada e uma mensagem informa sobre o término do processo."
   ]
  },
  {
   "cell_type": "code",
   "execution_count": null,
   "id": "c472a7bb",
   "metadata": {},
   "outputs": [],
   "source": [
    "# inicialização das listas usadas para armazenar dados de tempo e temperatura\n",
    "dados_Tempo = []\n",
    "dados_Temperatura = []\n",
    "\n",
    "if not ser.is_open: # abertura da porta serial para comunicação caso não esteja aberta\n",
    "    print('A conexão vai ser aberta.\\n')\n",
    "    ser.open()\n",
    "\n",
    "# solicita o número de séries de aquisição ao utilizador\n",
    "N = int(input('Número de séries de aquisição: '))\n",
    "NumeroAmostras = range(1, N+1)\n",
    "\n",
    "print('')\n",
    "print('A começar o processo de recolha de dados...\\n')\n",
    "print('')\n",
    "print('ATENÇÃO: Este processo leva algum tempo, por favor aguarde...\\n')\n",
    "print('...')\n",
    "    \n",
    "try:\n",
    "    # leitura do número de amostras pedidas pelo usuário\n",
    "    for _ in NumeroAmostras:\n",
    "        linha = ser.readline().decode().strip()\n",
    "        dados = linha.split(', ') # \"limpeza\" das strings \n",
    "        if len(dados) == 2:\n",
    "            dados_Tempo.append(int(dados[0]))\n",
    "            dados_Temperatura.append(float(dados[1]))\n",
    "        else:\n",
    "            print('Lista de dados / formatação errada!\\n') # Mensagem de erro\n",
    "        \n",
    "finally:\n",
    "    ser.close()\n",
    "    print('Recolha de dados concluída!\\n')\n",
    "    print('A fechar a porta')"
   ]
  },
  {
   "cell_type": "markdown",
   "id": "7562ad2c",
   "metadata": {},
   "source": [
    "Já feita a leitura dos dados fornecidos pelo Arduino, prossegue-se ao armazenamento dos mesmos, através da biblioteca ***pandas***. <br>\n",
    "\n",
    "> - É dado o nome ao ficheiro e o \"path\" onde ele vai ser guardado <br>\n",
    "> - De seguida é criado o dataframe, onde são guardados os valores adquiridos <br>\n",
    "> - Criado o dataframe, é exportado para um ficheiro .csv, com o nome e \"path\" atribuído anteriormente <br>"
   ]
  },
  {
   "cell_type": "code",
   "execution_count": null,
   "id": "410fb71a",
   "metadata": {},
   "outputs": [],
   "source": [
    "# Criação do ficheiro e do local de armazenamento\n",
    "filename = 'dados_sensor_raw' \n",
    "filepath = 'Ficheiros/T1/' + filename\n",
    "\n",
    "# Criação dos dataframes com os dados obtidos\n",
    "df = pd.DataFrame({'Tempo': dados_Tempo, 'Temperatura': dados_Temperatura})\n",
    "df.to_csv(filepath + '.csv', index=False)\n",
    "\n",
    "print(f'Os dados foram guardados com o nome de \"{filename}\".csv em: {filepath}.\\n')"
   ]
  },
  {
   "cell_type": "markdown",
   "id": "c34618c7",
   "metadata": {},
   "source": [
    "---\n",
    "\n",
    "## 1.4 - Visualização Gráfica dos Dados Adquiridos\n",
    "Com base nos dados obtidos no ponto 3 e utilizando a biblioteca ***Matplotlib***, o código subsequente realiza a geração de gráficos, empregando métodos e procedimentos consistentes com os princípios científicos da visualização de dados. <br>\n",
    "\n",
    "> - **Formatação do título e dos eixos** <br>\n",
    ">\n",
    "> Para manter uma estrutura clara e concisa no trabalho, foi criado um dicionário com a formatação do título e dos eixos para que todas as representações gráficas tenham a mesma estrutura"
   ]
  },
  {
   "cell_type": "code",
   "execution_count": null,
   "id": "f6bf020d",
   "metadata": {},
   "outputs": [],
   "source": [
    "# Dicionário do título \n",
    "formatoTitulo = {'family': 'sans',\n",
    "         'color':  'darkblue',\n",
    "         'weight': 'bold',\n",
    "         'size': 14,\n",
    "        }\n",
    "\n",
    "# Dicionário dos eixos\n",
    "formatoEixos = {'family': 'sans',\n",
    "         'color':  'black',\n",
    "         'weight': 'normal',\n",
    "         'size': 12,\n",
    "        }"
   ]
  },
  {
   "cell_type": "markdown",
   "id": "f961086f",
   "metadata": {},
   "source": [
    "> - **Armazenamento das representações gráficas**\n",
    ">\n",
    "> O nome do diretório e o caminho para armazenamento do gráfico foram definidos para manter uma estrutura organizada."
   ]
  },
  {
   "cell_type": "code",
   "execution_count": null,
   "id": "e9ba4989",
   "metadata": {},
   "outputs": [],
   "source": [
    "# Nome do ficheiro e path\n",
    "imagensT1_directory = 'Ficheiros/T1/'\n",
    "graficoT1_nome = 'Gráfico_TemperaturaTempo.png'\n",
    "imagensT1_filepath = imagensT1_directory + graficoT1_nome"
   ]
  },
  {
   "cell_type": "markdown",
   "id": "30124ed0",
   "metadata": {},
   "source": [
    "> - **Criação da plot e da curva do gráfico**\n",
    ">\n",
    "> Prossegue-se então com a leitura do dataframe onde estão armazenados os dados, e é criada a representação gráfica da Temperatura ao longo do Tempo"
   ]
  },
  {
   "cell_type": "code",
   "execution_count": null,
   "id": "2da80711",
   "metadata": {},
   "outputs": [],
   "source": [
    "# Leitura dos dados armazenados no dataframe\n",
    "df = pd.read_csv(filepath + '.csv')\n",
    "\n",
    "# Tamanho do gráfico\n",
    "plt.figure(figsize=(10, 6))\n",
    "\n",
    "# Desenho do gráfico de temperatura\n",
    "plt.plot(df['Tempo'], df['Temperatura'], label='Temperatura (ºC)')\n",
    "\n",
    "# Eixos do gráfico\n",
    "plt.xlabel('Tempo (s)', fontdict=formatoEixos)\n",
    "plt.ylabel('Temperatura (ºC)', fontdict=formatoEixos)\n",
    "plt.title('Temperatura em função do Tempo', fontdict=formatoTitulo)\n",
    "plt.legend(title='Amostras', frameon=False)\n",
    "\n",
    "plt.savefig(imagensT1_filepath, dpi = 1000)\n",
    "plt.grid() # quadriculado para uma melhor leitura do gráfico\n",
    "plt.show()"
   ]
  },
  {
   "cell_type": "markdown",
   "id": "3aed7d31",
   "metadata": {},
   "source": [
    "---\n",
    "\n",
    "## 1.5 - Cálculo de grandezas básicas: média, mediana, max, min, desvio padrão\n",
    "\n",
    "A presente análise teve como objetivo calcular e apresentar medidas estatísticas descritivas fundamentais para a compreensão da variabilidade da temperatura em um conjunto de dados. Foram determinadas a média, mediana, desvio padrão, máximo e mínimo da variável temperatura, utilizando as seguintes funções da biblioteca *Matplotlib*:\n",
    "\n",
    "> - ***.mean()*** = média\n",
    "> - ***.max()*** = máxima\n",
    "> - ***.min()*** = mínima\n",
    "> - ***.median()*** = mediana\n",
    "> - ***.std()*** = desvio padrão (standard deviation)\n"
   ]
  },
  {
   "cell_type": "code",
   "execution_count": null,
   "id": "2b35c99e",
   "metadata": {},
   "outputs": [],
   "source": [
    "print('Grandezas de estatística: \\n')\n",
    "\n",
    "TemperaturaMedia = df['Temperatura'].mean() # média da temperatura\n",
    "TemperaturaMaxima = df['Temperatura'].max() # temperatura maxima\n",
    "TemperaturaMinima = df['Temperatura'].min() # temperatura minima\n",
    "TemperaturaMediana = df['Temperatura'].median() # mediana das temperaturas\n",
    "TemperaturaDesvioPadrao = df['Temperatura'].std() # desvio padrão das temperaturas \n",
    "\n",
    "print(f'Média: {TemperaturaMedia:.2f} ºC')\n",
    "print(f'Temperatura Máxima: {TemperaturaMaxima:.2f} ºC')\n",
    "print(f'Temperatura Mínima: {TemperaturaMinima:.2f} ºC')\n",
    "print(f'Mediana das Temperaturas: {TemperaturaMediana:.2f}')\n",
    "print(f'Desvio padrão das Temperaturas: {TemperaturaDesvioPadrao:.3f}')"
   ]
  },
  {
   "cell_type": "markdown",
   "id": "86a63800",
   "metadata": {},
   "source": [
    "---\n",
    "\n",
    "## 1.6 - Criação de um Gráfico de Frequência"
   ]
  },
  {
   "cell_type": "markdown",
   "id": "2f2bda96",
   "metadata": {},
   "source": [
    "Este procedimento envolve a criação de um histograma para visualizar a distribuição das frequências absolutas dos valores adquiridos da variável temperatura. O gráfico resultante proporciona uma representação visual da distribuição da temperatura no conjunto de dados. <br>\n",
    "\n",
    "Foi mantida a mesma metodologia que o gráfico anterior:\n",
    "> - Criação do diretório e nome do ficheiro\n",
    "> - Realização da visualização gráfica\n",
    "> - Armazenamento no diretório definido"
   ]
  },
  {
   "cell_type": "code",
   "execution_count": null,
   "id": "0a5f135e",
   "metadata": {},
   "outputs": [],
   "source": [
    "# Nome do ficheiro e path\n",
    "histogramaTemp_nome = 'Histograma_TemperaturaTempo.png'\n",
    "imagens_filepath = imagensT1_directory + histogramaTemp_nome\n",
    "\n",
    "\n",
    "plt.figure(figsize=(10, 6))\n",
    "plt.title('Histograma da Temperatura', fontdict=formatoTitulo)\n",
    "plt.xlabel('Temperatura (ºC)', fontdict=formatoEixos)\n",
    "plt.ylabel('Frequência Absoluta', fontdict=formatoEixos)\n",
    "plt.hist(df['Temperatura'], bins=20, density=True, facecolor='red', histtype=\"stepfilled\", alpha=0.7)\n",
    "\n",
    "plt.savefig(imagens_filepath, dpi = 1000)\n",
    "plt.grid(axis='y', linestyle='--', alpha=0.7)\n",
    "plt.show()"
   ]
  },
  {
   "cell_type": "markdown",
   "id": "5bd082e8",
   "metadata": {},
   "source": [
    "---\n",
    "\n",
    "## 1.7 - Caracterização dos dados adquiridos "
   ]
  },
  {
   "cell_type": "markdown",
   "id": "59d85ac6",
   "metadata": {},
   "source": [
    "Este código lê o *dataframe* criado anteriormente com as listas de dados fornecidas, adiciona os resultados dos cálculos de grandezas descritivas previamente calculadas e gera um arquivo \"report.txt\" com essas informações."
   ]
  },
  {
   "cell_type": "code",
   "execution_count": null,
   "id": "79a6995f",
   "metadata": {},
   "outputs": [],
   "source": [
    "filenameRelatorio = 'report'\n",
    "filepathRelatorio = 'Ficheiros/T1/' + filenameRelatorio\n",
    "\n",
    "df = pd.read_csv(filepath + '.csv') # leitura do dataframe com os dados\n",
    "\n",
    "# cálculos estatísticos\n",
    "TemperaturaMedia = df['Temperatura'].mean() # média da temperatura\n",
    "TemperaturaMaxima = df['Temperatura'].max() # temperatura maxima\n",
    "TemperaturaMinima = df['Temperatura'].min() # temperatura minima\n",
    "TemperaturaMediana = df['Temperatura'].median() # mediana das temperaturas\n",
    "TemperaturaDesvioPadrao = df['Temperatura'].std() # desvio padrão das temperaturas \n",
    "\n",
    "# informações adicionais/autorais\n",
    "Arduino_modelo = 'Arduino Nano rp2040 Connect'\n",
    "Autor = 'Denis Gabriel Cicau - 25442'\n",
    "Data_Realizacao = '27-01-2024'\n",
    "\n",
    "# conteúdo que vai estar presente em \"report.txt\"\n",
    "relatorio_conteudo = f\"\"\"--------REPORT.TXT--------\n",
    "\n",
    "Autor do Código: {Autor}\n",
    "Hardware: {Arduino_modelo}\n",
    "Data de realização: {Data_Realizacao}\n",
    "\n",
    "Cálculos Descritivos: \n",
    "\n",
    "[+] Média: {TemperaturaMedia:.2f} ºC\n",
    "[+] Temperatura Máxima: {TemperaturaMaxima:.2f} ºC\n",
    "[+] Temperatura Mínima: {TemperaturaMinima:.2f} ºC\n",
    "[+] Mediana das Temperaturas: {TemperaturaMediana:.2f}\n",
    "[+] Desvio padrão das Temperaturas: {TemperaturaDesvioPadrao:.2f}\n",
    "\n",
    "------------------------------------------------------------------------------\n",
    "\n",
    "Análise dos dados obtidos:\n",
    "\n",
    "[+] A média da temperatura, {TemperaturaMedia:.2f} ºC, representa o valor médio observado ao longo do experimento.\n",
    "    A consistência desse valor sugere que o sistema manteve uma temperatura estável durante o período de aquisição.\n",
    "    \n",
    "[+] As temperaturas máxima e mínima, {TemperaturaMaxima:.2f} ºC e {TemperaturaMinima:.2f} ºC, respectivamente, indicam a amplitude térmica.\n",
    "    Como a variação dessa temperatura não foi muito discrepante, indica mais uma vez que não houve nenhum \"distúrbio\" durante o período de aquisição de dados.\n",
    "    \n",
    "[+] O desvio padrão, {TemperaturaDesvioPadrao:.2f}, reflete a dispersão dos dados ao redor da média.\n",
    "    Como houve uma dispersão baixa, sugere-se que houve estabilidade e consistência na temperatura.\n",
    "\n",
    "------------------------------------------------------------------------------\n",
    "\n",
    "Podemos observar que, com os dados obtidos através do {Arduino_modelo} conseguimos realizar:\n",
    "\n",
    "[-] Representações gráficas que ajudam na compreensão do tratamento de dados\n",
    "[-] Cálculo das grandezas básicas da estatística descritiva\n",
    "[-] Análise dos dados obtidos\n",
    "\n",
    "IMPORTANTE: Também foram guardadas cópias das visualizações gráficas no mesmo diretório!\n",
    "\"\"\"\n",
    "\n",
    "# criação do ficheiro \"report.txt\"\n",
    "with open(filepathRelatorio + '.txt', 'w') as relatorio:\n",
    "    relatorio.write(relatorio_conteudo)\n",
    "    \n",
    "print(f'O relatório com o nome de {filenameRelatorio}.txt foi criado e guardado em: {filepathRelatorio}')"
   ]
  },
  {
   "cell_type": "markdown",
   "id": "bafa0567",
   "metadata": {},
   "source": [
    "<hr style='border: 2px solid black'>"
   ]
  },
  {
   "cell_type": "markdown",
   "id": "6c6b2587",
   "metadata": {},
   "source": [
    "# T2 - Arduino Nano: Dados Reais"
   ]
  },
  {
   "cell_type": "markdown",
   "id": "df419881",
   "metadata": {},
   "source": [
    "Nesta seção do estudo, é requisitada a reexecução das etapas de 4 a 7, porém empregando um *dataframe* contendo informações fornecidas pelo professor. As etapas consistem em: <br>\n",
    "> * Elaboração de representações gráficas\n",
    "> * Computação das medidas fundamentais da estatística descritiva\n",
    "> * Produção de um histograma\n",
    "> * Documentação dos dados obtidos sob o formato de um ficheiro .txt"
   ]
  },
  {
   "cell_type": "markdown",
   "id": "563481d4",
   "metadata": {},
   "source": [
    "---\n",
    "\n",
    "## 2.8 (4) - Elaboração de representações gráficas \n",
    "\n",
    "Utilizando o dataframe com dados adquiridos pelo professor, prosseguimos com as representações gráficas dos mesmos."
   ]
  },
  {
   "cell_type": "code",
   "execution_count": null,
   "id": "135770c5",
   "metadata": {},
   "outputs": [],
   "source": [
    "# Leitura do dataframe proporcionado pelo professor\n",
    "df_amostras_professor = pd.read_csv('dados_sensores.csv')\n",
    "\n",
    "# \"limpa\" as colunas do dataframe, de forma a ficar apenas texto, sem os apóstrofes\n",
    "df_amostras_professor.columns = df_amostras_professor.columns.str.strip().str.replace(\"'\", \"\")"
   ]
  },
  {
   "cell_type": "markdown",
   "id": "ba4c919a",
   "metadata": {},
   "source": [
    "---\n",
    "> - **Representação gráfica temperatura/tempo**"
   ]
  },
  {
   "cell_type": "code",
   "execution_count": null,
   "id": "26bdb265",
   "metadata": {},
   "outputs": [],
   "source": [
    "# Representação gráfica temperaturas/tempo\n",
    "imagensT2_directory = 'Ficheiros/T2/'\n",
    "TempT2_nome = 'Gráfico_TemperaturaTempo_T2.png'\n",
    "TempT2_filepath = imagensT2_directory + TempT2_nome\n",
    "\n",
    "plt.figure(figsize=(10, 6))\n",
    "plt.plot(df_amostras_professor['HH:MM:SS.SSS'], df_amostras_professor['T1(C)'], color='blue', label='Temperatura do sensor 1')\n",
    "plt.plot(df_amostras_professor['HH:MM:SS.SSS'], df_amostras_professor['T2(C)'], color='red', label='Temperatura do sensor 2')\n",
    "plt.title('Temperatura (T1 e T2) ao longo do Tempo', fontdict=formatoTitulo)\n",
    "plt.xlabel('Tempo (s)', fontdict=formatoEixos)\n",
    "plt.ylabel('Temperatura (ºC)', fontdict=formatoEixos)\n",
    "plt.legend(title='Amostras', frameon=False)\n",
    "plt.savefig(TempT2_filepath, dpi=600)\n",
    "plt.show()"
   ]
  },
  {
   "cell_type": "markdown",
   "id": "19a11337",
   "metadata": {},
   "source": [
    "---\n",
    "> - **Representação gráfica pressão atmosférica/tempo**"
   ]
  },
  {
   "cell_type": "code",
   "execution_count": null,
   "id": "fa128763",
   "metadata": {},
   "outputs": [],
   "source": [
    "# Representação gráfica pressão atmosférica/tempo\n",
    "PressaoAtmosfericaT2_nome = 'Gráfico_PressaoAtmosfericaTempo_T2.png'\n",
    "PressaoAtmosfericaT2_filepath = imagensT2_directory + PressaoAtmosfericaT2_nome\n",
    "\n",
    "plt.figure(figsize=(10, 6))\n",
    "plt.plot(df_amostras_professor['HH:MM:SS.SSS'], df_amostras_professor['P(hPa)'], color='burlywood', label='Pressão Atmosférica')\n",
    "plt.title('Pressão Atmosférica ao longo do Tempo', fontdict=formatoTitulo)\n",
    "plt.xlabel('Tempo', fontdict=formatoEixos)\n",
    "plt.ylabel('Pressão (hPa)', fontdict=formatoEixos)\n",
    "plt.legend(title='Amostras', frameon=False)\n",
    "plt.savefig(PressaoAtmosfericaT2_filepath, dpi=600)\n",
    "plt.show()"
   ]
  },
  {
   "cell_type": "markdown",
   "id": "2ad049f3",
   "metadata": {},
   "source": [
    "---\n",
    "> - **Representação gráfica Humidade Relativa/Tempo**"
   ]
  },
  {
   "cell_type": "code",
   "execution_count": null,
   "id": "87cd76c0",
   "metadata": {},
   "outputs": [],
   "source": [
    "# Representação gráfica humidade relativa/tempo\n",
    "HumidadeRelativaT2_nome = 'Gráfico_HumidadeRelativaTempo_T2.png'\n",
    "HumidadeRelativaT2_filepath = imagensT2_directory + HumidadeRelativaT2_nome\n",
    "\n",
    "plt.figure(figsize=(10, 6))\n",
    "plt.plot(df_amostras_professor['HH:MM:SS.SSS'], df_amostras_professor['HR(%)'], color='cyan', label='Humidade Relativa')\n",
    "plt.title('Humidade Relativa ao longo do Tempo', fontdict=formatoTitulo)\n",
    "plt.xlabel('Tempo', fontdict=formatoEixos)\n",
    "plt.ylabel('Humidade Relativa (%)', fontdict=formatoEixos)\n",
    "plt.legend(title='Amostras', frameon=False)\n",
    "plt.savefig(HumidadeRelativaT2_filepath, dpi=600)\n",
    "plt.show()"
   ]
  },
  {
   "cell_type": "markdown",
   "id": "1d63bcdb",
   "metadata": {},
   "source": [
    "---\n",
    "## (5) Cálculo das grandezas de estatística descritiva "
   ]
  },
  {
   "cell_type": "code",
   "execution_count": null,
   "id": "2344ed72",
   "metadata": {},
   "outputs": [],
   "source": [
    "print('Grandezas de estatística: \\n')\n",
    "\n",
    "def grandezas_estatistica(coluna):\n",
    "    media = df_amostras_professor[coluna].mean()\n",
    "    maximo = df_amostras_professor[coluna].max()\n",
    "    minimo = df_amostras_professor[coluna].min()\n",
    "    mediana = df_amostras_professor[coluna].median()\n",
    "    desvio_padrao = df_amostras_professor[coluna].std()\n",
    "    return media, maximo, minimo, mediana, desvio_padrao\n",
    "\n",
    "# Grandezas da Temperatura (T1)\n",
    "grandezas_t1 = grandezas_estatistica('T1(C)')\n",
    "\n",
    "# Grandezas da Temperatura (T2)\n",
    "grandezas_t2 = grandezas_estatistica('T2(C)')\n",
    "\n",
    "# Grandezas da Pressão Atmosférica\n",
    "grandezas_pressao = grandezas_estatistica('P(hPa)')\n",
    "\n",
    "# Grandezas da Humidade Relativa (HR)\n",
    "grandezas_humidade = grandezas_estatistica('HR(%)')\n",
    "\n",
    "\n",
    "# print Grandezas da Temperatura sensor 1\n",
    "print('Sensor de Temperatura 1:\\n')\n",
    "print(f'Média: {grandezas_t1[0]:.2f} ºC')\n",
    "print(f'Temperatura Máxima: {grandezas_t1[1]:.2f} ºC')\n",
    "print(f'Temperatura Mínima: {grandezas_t1[2]:.2f} ºC')\n",
    "print(f'Mediana das Temperaturas: {grandezas_t1[3]:.2f}')\n",
    "print(f'Desvio padrão das Temperaturas: {grandezas_t1[4]:.3f}')\n",
    "print('')\n",
    "\n",
    "# print Grandezas da Temperatura sensor 2\n",
    "print('Sensor de Temperatura 1:\\n')\n",
    "print(f'Média: {grandezas_t2[0]:.2f} ºC')\n",
    "print(f'Temperatura Máxima: {grandezas_t2[1]:.2f} ºC')\n",
    "print(f'Temperatura Mínima: {grandezas_t2[2]:.2f} ºC')\n",
    "print(f'Mediana das Temperaturas: {grandezas_t2[3]:.2f}')\n",
    "print(f'Desvio padrão das Temperaturas: {grandezas_t2[4]:.3f}')\n",
    "print('')\n",
    "\n",
    "# print Grandezas da Pressão atmosférica\n",
    "print('Sensor de Pressão Atmosférica:\\n')\n",
    "print(f'Média: {grandezas_pressao[0]:.2f} hPa')\n",
    "print(f'Pressão Máxima: {grandezas_pressao[1]:.2f} hPa')\n",
    "print(f'Pressão Mínima: {grandezas_pressao[2]:.2f} hPa')\n",
    "print(f'Mediana das Pressões: {grandezas_pressao[3]:.2f}')\n",
    "print(f'Desvio padrão das Pressões: {grandezas_pressao[4]:.3f}')\n",
    "print('')\n",
    "\n",
    "#print Grandezas da Humidade\n",
    "print('Sensor de Humidade Relativa:\\n')\n",
    "print(f'Média: {grandezas_humidade[0]:.2f}%')\n",
    "print(f'Pressão Máxima: {grandezas_humidade[1]:.2f}%')\n",
    "print(f'Pressão Mínima: {grandezas_humidade[2]:.2f}%')\n",
    "print(f'Mediana das Pressões: {grandezas_humidade[3]:.2f}')\n",
    "print(f'Desvio padrão das Pressões: {grandezas_humidade[4]:.3f}')\n",
    "print('')"
   ]
  },
  {
   "cell_type": "markdown",
   "id": "64d9b6e3",
   "metadata": {},
   "source": [
    "---\n",
    "## (6) Criação de Gráficos de Frequência\n",
    "Repetindo o mesmo processo anterior, obtém-se o seguinte:"
   ]
  },
  {
   "cell_type": "markdown",
   "id": "e112e42b",
   "metadata": {},
   "source": [
    "> - **Histograma da Temperatura do sensor 1**"
   ]
  },
  {
   "cell_type": "code",
   "execution_count": null,
   "id": "161aa519",
   "metadata": {},
   "outputs": [],
   "source": [
    "# Histograma das Temperaturas (sensor 1)\n",
    "histogramaTemperaturaSensor1_nome = 'Histograma_TemperaturaTempo_sensor1.png'\n",
    "histogramaTemperaturaSensor1_filepath = imagensT2_directory + histogramaTemperaturaSensor1_nome\n",
    "\n",
    "plt.figure(figsize=(10, 6))\n",
    "plt.title('Histograma da Temperatura (sensor 1)', fontdict=formatoTitulo)\n",
    "plt.xlabel('Temperatura (ºC)', fontdict=formatoEixos)\n",
    "plt.ylabel('Frequência Absoluta', fontdict=formatoEixos)\n",
    "plt.hist(df_amostras_professor['T1(C)'], bins=20, density=True, facecolor='lightcoral', histtype=\"stepfilled\", alpha=0.7)\n",
    "\n",
    "plt.savefig(imagens_filepath, dpi = 1000)\n",
    "plt.grid(axis='y', linestyle='--', alpha=0.7)\n",
    "plt.savefig(histogramaTemperaturaSensor1_filepath, dpi=1000)\n",
    "plt.show()"
   ]
  },
  {
   "cell_type": "markdown",
   "id": "30be2cfe",
   "metadata": {},
   "source": [
    "---\n",
    "> - **Histograma da Temperatura do sensor 2**"
   ]
  },
  {
   "cell_type": "code",
   "execution_count": null,
   "id": "01a12412",
   "metadata": {},
   "outputs": [],
   "source": [
    "# Histograma das Temperaturas (sensor 1)\n",
    "histogramaTemperaturaSensor2_nome = 'Histograma_TemperaturaTempo_sensor2.png'\n",
    "histogramaTemperaturaSensor2_filepath = imagensT2_directory + histogramaTemperaturaSensor2_nome\n",
    "\n",
    "plt.figure(figsize=(10, 6))\n",
    "plt.title('Histograma da Temperatura (sensor 1)', fontdict=formatoTitulo)\n",
    "plt.xlabel('Temperatura (ºC)', fontdict=formatoEixos)\n",
    "plt.ylabel('Frequência Absoluta', fontdict=formatoEixos)\n",
    "plt.hist(df_amostras_professor['T2(C)'], bins=20, density=True, facecolor='indianred', histtype=\"stepfilled\", alpha=0.7)\n",
    "plt.grid(axis='y', linestyle='--', alpha=0.7)\n",
    "plt.savefig(histogramaTemperaturaSensor2_filepath, dpi=1000)\n",
    "plt.show()"
   ]
  },
  {
   "cell_type": "markdown",
   "id": "b68e31c5",
   "metadata": {},
   "source": [
    "---\n",
    "> - **Histograma da Pressão Atmosférica**"
   ]
  },
  {
   "cell_type": "code",
   "execution_count": null,
   "id": "bb9f9ad7",
   "metadata": {},
   "outputs": [],
   "source": [
    "# Histograma das Pressões Atmosféricas\n",
    "histogramaPressoes_nome = 'Histograma_Pressoes_atmosfericas.png'\n",
    "histogramaPressoes_filepath = imagensT2_directory + histogramaPressoes_nome\n",
    "\n",
    "plt.figure(figsize=(10, 6))\n",
    "plt.title('Histograma da Pressão Atmosférica', fontdict=formatoTitulo)\n",
    "plt.xlabel('Pressão Amtosférca (hPa)', fontdict=formatoEixos)\n",
    "plt.ylabel('Frequência Absoluta', fontdict=formatoEixos)\n",
    "plt.hist(df_amostras_professor['P(hPa)'], bins=20, density=True, facecolor='salmon', histtype=\"stepfilled\", alpha=0.7)\n",
    "plt.grid(axis='y', linestyle='--', alpha=0.7)\n",
    "plt.savefig(histogramaPressoes_filepath, dpi=1000)\n",
    "plt.show()"
   ]
  },
  {
   "cell_type": "markdown",
   "id": "d678f248",
   "metadata": {},
   "source": [
    "---\n",
    "> - **Histograma da Humidade**"
   ]
  },
  {
   "cell_type": "code",
   "execution_count": null,
   "id": "669ec5cc",
   "metadata": {},
   "outputs": [],
   "source": [
    "# Histograma das Humidades\n",
    "histogramaHumidades_nome = 'Histograma_Humidades.png'\n",
    "histogramaHumidades_filepath = imagensT2_directory + histogramaHumidades_nome\n",
    "\n",
    "plt.figure(figsize=(10, 6))\n",
    "plt.title('Histograma da Humidade', fontdict=formatoTitulo)\n",
    "plt.xlabel('Humidade Relativa (%)', fontdict=formatoEixos)\n",
    "plt.ylabel('Frequência Absoluta', fontdict=formatoEixos)\n",
    "plt.hist(df_amostras_professor['HR(%)'], bins=20, density=True, facecolor='sienna', histtype=\"stepfilled\", alpha=0.7)\n",
    "plt.grid(axis='y', linestyle='--', alpha=0.7)\n",
    "plt.savefig(histogramaHumidades_filepath, dpi=1000)\n",
    "plt.show()"
   ]
  },
  {
   "cell_type": "markdown",
   "id": "08baa18c",
   "metadata": {},
   "source": [
    "---\n",
    "## (7) Caracterização dos dados adquiridos \n",
    "Utilizando o mesmo processo, é criado novamente um txt que relata todas as informações necessárias, mas desta vez num filepath diferente."
   ]
  },
  {
   "cell_type": "code",
   "execution_count": null,
   "id": "f463c124",
   "metadata": {},
   "outputs": [],
   "source": [
    "filenameRelatorio2 = 'report'\n",
    "filepathRelatorio2 = 'Ficheiros/T2/' + filenameRelatorio\n",
    "\n",
    "relatorio2_conteudo = f\"\"\"--------REPORT.TXT--------\n",
    "\n",
    "Autor do Código: {Autor}\n",
    "Hardware: {Arduino_modelo}\n",
    "Data de realização: {Data_Realizacao}\n",
    "\n",
    "Cálculos Descritivos: \n",
    "\n",
    "[+]-[+]-[+]-|Temperatura Sensor 1|-[+]-[+]-[+]\n",
    "\n",
    "[+] Média: {grandezas_t1[0]:.2f} ºC\n",
    "[+] Temperatura Máxima: {grandezas_t1[1]:.2f} ºC\n",
    "[+] Temperatura Mínima: {grandezas_t1[2]:.2f} ºC\n",
    "[+] Mediana das Temperaturas: {grandezas_t1[3]:.2f}\n",
    "[+] Desvio padrão das Temperaturas: {grandezas_t1[4]:.3f}\n",
    "\n",
    "[+]-[+]-[+]-|Temperatura Sensor 2|-[+]-[+]-[+]\n",
    "\n",
    "[+] Média: {grandezas_t2[0]:.2f} ºC\n",
    "[+] Temperatura Máxima: {grandezas_t2[1]:.2f} ºC\n",
    "[+] Temperatura Mínima: {grandezas_t2[2]:.2f} ºC\n",
    "[+] Mediana das Temperaturas: {grandezas_t2[3]:.2f}\n",
    "[+] Desvio padrão das Temperaturas: {grandezas_t2[4]:.3f}\n",
    "\n",
    "[+]-[+]-[+]-|Pressão Atmosférica|-[+]-[+]-[+]\n",
    "\n",
    "[+] Média: {grandezas_pressao[0]:.2f} hPa\n",
    "[+] Temperatura Máxima: {grandezas_pressao[1]:.2f} hPa\n",
    "[+] Temperatura Mínima: {grandezas_pressao[2]:.2f} hPa\n",
    "[+] Mediana das Temperaturas: {grandezas_pressao[3]:.2f}\n",
    "[+] Desvio padrão das Temperaturas: {grandezas_pressao[4]:.3f}\n",
    "\n",
    "[+]-[+]-[+]-|Humiadade|-[+]-[+]-[+]\n",
    "\n",
    "[+] Média: {grandezas_humidade[0]:.2f}%\n",
    "[+] Temperatura Máxima: {grandezas_humidade[1]:.2f}%\n",
    "[+] Temperatura Mínima: {grandezas_humidade[2]:.2f}%\n",
    "[+] Mediana das Temperaturas: {grandezas_humidade[3]:.2f}\n",
    "[+] Desvio padrão das Temperaturas: {grandezas_humidade[4]:.3f}\n",
    "\n",
    "Também foram guardadas cópias das visualizações gráficas no mesmo diretório!\n",
    "\"\"\"\n",
    "\n",
    "# criação do ficheiro \"report.txt\"\n",
    "with open(filepathRelatorio2 + '.txt', 'w') as relatorio2:\n",
    "    relatorio2.write(relatorio2_conteudo)\n",
    "    \n",
    "print(f'O relatório com o nome de {filenameRelatorio2}.txt foi criado e guardado em: {filepathRelatorio2}')"
   ]
  },
  {
   "cell_type": "markdown",
   "id": "df354a5b",
   "metadata": {},
   "source": [
    "---\n",
    "## 2.9 - Visualização gráfica das correlações entre grandezas obtidas\n",
    "Neste segmento do estudo, serão apresentados gráficos que possibilitam a observação das correlações entre variáveis, mais especificamente entre T1 e T2, T1 e P, e T1 e HR."
   ]
  },
  {
   "cell_type": "markdown",
   "id": "26790492",
   "metadata": {},
   "source": [
    "> - **Correlação entre a Temperatura do sensor 1 e do sensor 2**"
   ]
  },
  {
   "cell_type": "code",
   "execution_count": null,
   "id": "ce3de7b7",
   "metadata": {},
   "outputs": [],
   "source": [
    "# Correlação entre T1 e T2\n",
    "imagensT2_directory = 'Ficheiros/T2/'\n",
    "CorrT1T2_nome = 'Correlação_T1_T2.png'\n",
    "CorrT1T2_filepath = imagensT2_directory + TempT2_nome\n",
    "\n",
    "plt.figure(figsize=(10, 6))\n",
    "plt.scatter(df_amostras_professor['T1(C)'], df_amostras_professor['T2(C)'], color='forestgreen')\n",
    "plt.title('Correlação entre Temperatura do Sensor 1 e Temperatura do Sensor 2', fontdict=formatoTitulo)\n",
    "plt.xlabel('T1 (ºC)', fontdict=formatoEixos)\n",
    "plt.ylabel('T2 (ºC)', fontdict=formatoEixos)\n",
    "plt.savefig(CorrT1T2_filepath, dpi=1000)\n",
    "plt.show()"
   ]
  },
  {
   "cell_type": "markdown",
   "id": "ab01e2cb",
   "metadata": {},
   "source": [
    "---\n",
    "> - **Correlação entre a Temperatura do sensor 1 e Pressão Atmosférica**"
   ]
  },
  {
   "cell_type": "code",
   "execution_count": null,
   "id": "ffe26810",
   "metadata": {},
   "outputs": [],
   "source": [
    "# Correlação entre T1 e P\n",
    "imagensT2_directory = 'Ficheiros/T2/'\n",
    "CorrT1_P_nome = 'Correlação_T1_P.png'\n",
    "CorrT1_P_filepath = imagensT2_directory + CorrT1_P_nome\n",
    "\n",
    "plt.figure(figsize=(10, 6))\n",
    "plt.scatter(df_amostras_professor['T1(C)'], df_amostras_professor['P(hPa)'], color='limegreen')\n",
    "plt.title('Correlação entre Temperatura do Sensor 1 e Pressão Atmosférica', fontdict=formatoTitulo)\n",
    "plt.xlabel('T1 (ºC)', fontdict=formatoEixos)\n",
    "plt.ylabel('P (hPa)'fontdict=formatoEixos)\n",
    "plt.savefig(CorrT1_P_filepath, dpi=1000)\n",
    "plt.show()\n"
   ]
  },
  {
   "cell_type": "markdown",
   "id": "4b5e33ca",
   "metadata": {},
   "source": [
    "---\n",
    "> - **Correlação entre a Temperatura do sensor 1 e a Hummidade Relativa**"
   ]
  },
  {
   "cell_type": "code",
   "execution_count": null,
   "id": "26303f31",
   "metadata": {},
   "outputs": [],
   "source": [
    "# Correlação entre T1 e HR\n",
    "imagensT2_directory = 'Ficheiros/T2/'\n",
    "CorrT1_HR_nome = 'Correlação_T1_HR.png'\n",
    "CorrT1_HR_filepath = imagensT2_directory + CorrT1_HR_nome\n",
    "\n",
    "plt.figure(figsize=(10, 6))\n",
    "plt.scatter(df_amostras_professor['T1(C)'], df_amostras_professor['HR(%)'], color='lime')\n",
    "plt.title('Correlação entre Temperatura do Sensor 1 e Humidade Relativa', fontdict=formatoTitulo)\n",
    "plt.xlabel('T1 (ºC)', fontdict=formatoEixos)\n",
    "plt.ylabel('HR (%)', fontdict=formatoEixos)\n",
    "plt.savefig(CorrT1_HR_filepath, dpi=1000)\n",
    "plt.show()"
   ]
  },
  {
   "cell_type": "markdown",
   "id": "8e42d9e8",
   "metadata": {},
   "source": [
    "---\n",
    "## 2.10 - Cálculo do Coeficiente de correlação de Pearson entre T1 e T2"
   ]
  },
  {
   "cell_type": "code",
   "execution_count": null,
   "id": "f3889496",
   "metadata": {},
   "outputs": [],
   "source": [
    "# Armazenamento dos dados de T1 e T2 em listas\n",
    "Amostras_Sensor1 = df_amostras_professor['T1(C)']\n",
    "Amostras_Sensor2 = df_amostras_professor['T2(C)']\n",
    "\n",
    "# Conversão das listas para arrays\n",
    "Amostras_Sensor1_array = np.array(Amostras_Sensor1)\n",
    "Amostras_Sensor2_array = np.array(Amostras_Sensor2)\n",
    "\n",
    "# Cálculo do coeficiente\n",
    "Coeficiente_Pearson = np.corrcoef(Amostras_Sensor1_array, Amostras_Sensor2_array)[0, 1]\n",
    "\n",
    "print(f' O Coeficiente de correlação de Pearson entre T1 e T2 é: {Coeficiente_Pearson:.2f}')"
   ]
  }
 ],
 "metadata": {
  "kernelspec": {
   "display_name": "Python 3 (ipykernel)",
   "language": "python",
   "name": "python3"
  },
  "language_info": {
   "codemirror_mode": {
    "name": "ipython",
    "version": 3
   },
   "file_extension": ".py",
   "mimetype": "text/x-python",
   "name": "python",
   "nbconvert_exporter": "python",
   "pygments_lexer": "ipython3",
   "version": "3.11.5"
  }
 },
 "nbformat": 4,
 "nbformat_minor": 5
}
